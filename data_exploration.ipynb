{
 "cells": [
  {
   "cell_type": "markdown",
   "metadata": {},
   "source": [
    "# Data exploration Kaggle Speech Recognition"
   ]
  },
  {
   "cell_type": "code",
   "execution_count": 1,
   "metadata": {},
   "outputs": [],
   "source": [
    "import os.path\n",
    "from os import listdir\n",
    "from scipy.io import wavfile\n",
    "import pyaudio as audio\n",
    "import glob\n",
    "import pandas as pd\n",
    "import matplotlib.pyplot as plt\n",
    "import re\n",
    "import hashlib\n",
    "import numpy as np"
   ]
  },
  {
   "cell_type": "markdown",
   "metadata": {},
   "source": [
    "Defining some constants"
   ]
  },
  {
   "cell_type": "code",
   "execution_count": 2,
   "metadata": {},
   "outputs": [],
   "source": [
    "# All words to be recognized in the competition\n",
    "CORE_WORDS = ['yes', 'no', 'up', 'down', 'left', 'right', 'on', 'off', 'stop', 'go', 'zero', \n",
    "              'one', 'two', 'three', 'four', 'five', 'six', 'seven', 'eight', 'nine']\n",
    "# Directory name of background noise\n",
    "BACKGROUND_NOISE = '_background_noise_'\n",
    "# 'unknown' label\n",
    "UNKNOWN = 'unknown'\n",
    "# filename for the .csv with all filepaths for easy import\n",
    "TRAIN_CSV = 'train.csv'\n",
    "# filename with all the raw (numerical) data, same ordering as `TRAIN_CSV`\n",
    "RAW_CSV = 'raw.csv'\n",
    "# constant for hashing, see `which_set`for more info\n",
    "MAX_NUM_WAVS_PER_CLASS = 2**27 - 1 # ~134M"
   ]
  },
  {
   "cell_type": "markdown",
   "metadata": {},
   "source": [
    "Some handy functions"
   ]
  },
  {
   "cell_type": "code",
   "execution_count": 3,
   "metadata": {},
   "outputs": [],
   "source": [
    "def play(sound, samp_freq=16000):\n",
    "    \"\"\"play sound, default samp_freq is 16kHz\"\"\"\n",
    "    p = audio.PyAudio()\n",
    "    stream = p.open(format = audio.paInt16,    \n",
    "                    rate = samp_freq,\n",
    "                    channels = 1,\n",
    "                    output = True)\n",
    "    stream.write(sound.tobytes())\n",
    "    stream.close()\n",
    "    p.terminate()\n",
    "\n",
    "def which_set(filename, validation_percentage, testing_percentage): \n",
    "    \"\"\"\n",
    "    Determines which data partition the file should belong to.\n",
    "    We want to keep files in the same training, validation, or testing sets even if new ones are added over time. This makes it \n",
    "    less likely that testing samples will accidentally be reused in training when long runs are restarted for example. \n",
    "    To keep this stability, a hash of the filename is taken and used to determine which set it should belong to. \n",
    "    This determination only depends on the name and the set proportions, so it won't change as other files are added.\n",
    "    It's also useful to associate particular files as related (for example words spoken by the same person), \n",
    "    so anything after 'nohash' in a filename is ignored for set determination. \n",
    "    This ensures that 'bobby_nohash_0.wav' and 'bobby_nohash_1.wav' are always in the same set, for example.\n",
    "    \n",
    "    Args: filename: File path of the data sample. validation_percentage: How much of the data set to use for validation. \n",
    "        testing_percentage: How much of the data set to use for testing.\n",
    "        \n",
    "    Returns: String, one of 'training', 'validation', or 'testing'. \n",
    "    \"\"\" \n",
    "    base_name = os.path.basename(filename) \n",
    "    # We want to ignore anything after 'nohash' in the file name when \n",
    "    # deciding which set to put a wav in, so the data set creator has a way of \n",
    "    # grouping wavs that are close variations of each other. \n",
    "    hash_name = re.sub(r'nohash.*$', '', base_name).encode('utf-8')\n",
    "    # This looks a bit magical, but we need to decide whether this file should \n",
    "    # go into the training, testing, or validation sets, and we want to keep \n",
    "    # existing files in the same set even if more files are subsequently \n",
    "    # added. \n",
    "    # To do that, we need a stable way of deciding based on just the file name \n",
    "    # itself, so we do a hash of that and then use that to generate a \n",
    "    # probability value that we use to assign it. \n",
    "    hash_name_hashed = hashlib.sha1(hash_name).hexdigest() \n",
    "    percentage_hash = ((int(hash_name_hashed, 16) % (MAX_NUM_WAVS_PER_CLASS + 1)) * (100.0 / MAX_NUM_WAVS_PER_CLASS)) \n",
    "    if percentage_hash < validation_percentage: \n",
    "        result = 'validation' \n",
    "    elif percentage_hash < (testing_percentage + validation_percentage): \n",
    "        result = 'testing' \n",
    "    else: result = 'training' \n",
    "    return result\n",
    "\n",
    "def random_sample(df, size=1):\n",
    "    \"\"\"\n",
    "    draw random samples from a dataframe\n",
    "    \"\"\"\n",
    "    return df.loc[np.random.choice(df.index, size, replace=True), :]\n",
    "\n",
    "def read_wavfile(file_path):\n",
    "    rate, sound = wavfile.read(file_path)\n",
    "    timestep = np.arange(0.5/rate, 1, 1./rate)\n",
    "    return dict(zip(timestep, sound))\n",
    "    "
   ]
  },
  {
   "cell_type": "markdown",
   "metadata": {},
   "source": [
    "# Data assemblation\n",
    "## Filepath training dataframe\n",
    "Assembling data into a dataframe linking to the path of the soundwaves (which then contains the raw data). The dataframe is exported to `train.csv`.\n",
    "Columns of `df`:\n",
    "- `speaker`: the id of the participant speaking in the word\n",
    "- `word`: the label corresponding to the datapoint (the spoken word)\n",
    "- `filepath`: path to the .wav file\n",
    "- `utterance`: sequence id of utterance of the word by that speaker"
   ]
  },
  {
   "cell_type": "code",
   "execution_count": 4,
   "metadata": {},
   "outputs": [],
   "source": [
    "train_audio_path = os.path.join('train', 'audio')\n",
    "train_words = [w for w in listdir(train_audio_path) if w != BACKGROUND_NOISE]\n",
    "dfs = []\n",
    "columns = ['word', 'filepath']\n",
    "for w in train_words:\n",
    "    path = os.path.join(train_audio_path, w)\n",
    "    sounds = listdir(path)\n",
    "    #word = w if w in CORE_WORDS else UNKNOWN\n",
    "    word = w\n",
    "    records = [(word, os.path.join(path, sound)) for sound in sounds]\n",
    "    dfs.append(pd.DataFrame.from_records(records, columns=columns))\n",
    "df = pd.concat(dfs)"
   ]
  },
  {
   "cell_type": "code",
   "execution_count": 5,
   "metadata": {},
   "outputs": [
    {
     "data": {
      "text/html": [
       "<div>\n",
       "<style scoped>\n",
       "    .dataframe tbody tr th:only-of-type {\n",
       "        vertical-align: middle;\n",
       "    }\n",
       "\n",
       "    .dataframe tbody tr th {\n",
       "        vertical-align: top;\n",
       "    }\n",
       "\n",
       "    .dataframe thead th {\n",
       "        text-align: right;\n",
       "    }\n",
       "</style>\n",
       "<table border=\"1\" class=\"dataframe\">\n",
       "  <thead>\n",
       "    <tr style=\"text-align: right;\">\n",
       "      <th></th>\n",
       "      <th>word</th>\n",
       "      <th>filepath</th>\n",
       "      <th>speaker</th>\n",
       "      <th>utterance</th>\n",
       "    </tr>\n",
       "  </thead>\n",
       "  <tbody>\n",
       "    <tr>\n",
       "      <th>0</th>\n",
       "      <td>bed</td>\n",
       "      <td>train\\audio\\bed\\00176480_nohash_0.wav</td>\n",
       "      <td>00176480</td>\n",
       "      <td>0</td>\n",
       "    </tr>\n",
       "    <tr>\n",
       "      <th>1</th>\n",
       "      <td>marvin</td>\n",
       "      <td>train\\audio\\marvin\\00176480_nohash_1.wav</td>\n",
       "      <td>00176480</td>\n",
       "      <td>1</td>\n",
       "    </tr>\n",
       "    <tr>\n",
       "      <th>0</th>\n",
       "      <td>marvin</td>\n",
       "      <td>train\\audio\\marvin\\00176480_nohash_0.wav</td>\n",
       "      <td>00176480</td>\n",
       "      <td>0</td>\n",
       "    </tr>\n",
       "    <tr>\n",
       "      <th>0</th>\n",
       "      <td>off</td>\n",
       "      <td>train\\audio\\off\\00176480_nohash_0.wav</td>\n",
       "      <td>00176480</td>\n",
       "      <td>0</td>\n",
       "    </tr>\n",
       "    <tr>\n",
       "      <th>0</th>\n",
       "      <td>left</td>\n",
       "      <td>train\\audio\\left\\00176480_nohash_0.wav</td>\n",
       "      <td>00176480</td>\n",
       "      <td>0</td>\n",
       "    </tr>\n",
       "  </tbody>\n",
       "</table>\n",
       "</div>"
      ],
      "text/plain": [
       "     word                                  filepath   speaker utterance\n",
       "0     bed     train\\audio\\bed\\00176480_nohash_0.wav  00176480         0\n",
       "1  marvin  train\\audio\\marvin\\00176480_nohash_1.wav  00176480         1\n",
       "0  marvin  train\\audio\\marvin\\00176480_nohash_0.wav  00176480         0\n",
       "0     off     train\\audio\\off\\00176480_nohash_0.wav  00176480         0\n",
       "0    left    train\\audio\\left\\00176480_nohash_0.wav  00176480         0"
      ]
     },
     "execution_count": 5,
     "metadata": {},
     "output_type": "execute_result"
    }
   ],
   "source": [
    "df['speaker'] = df['filepath'].str.split('_').str.get(0).str.split('\\\\').str.get(-1)\n",
    "df['utterance'] = df['filepath'].str.split('_').str.get(-1).str.split('.').str.get(0)\n",
    "df = df.sort_values('speaker')\n",
    "df.to_csv(TRAIN_CSV, index=False)\n",
    "df.head()"
   ]
  },
  {
   "cell_type": "markdown",
   "metadata": {},
   "source": [
    "## Raw data DataFrame"
   ]
  },
  {
   "cell_type": "markdown",
   "metadata": {},
   "source": [
    "It might be interesting to check some early statistics before actually investigating the waveforms with audio processing analysis"
   ]
  },
  {
   "cell_type": "code",
   "execution_count": 6,
   "metadata": {},
   "outputs": [],
   "source": [
    "df = pd.read_csv(TRAIN_CSV)\n",
    "df['word'] = df['word'].astype('category')"
   ]
  },
  {
   "cell_type": "markdown",
   "metadata": {},
   "source": [
    "### Word distribution"
   ]
  },
  {
   "cell_type": "code",
   "execution_count": 7,
   "metadata": {},
   "outputs": [
    {
     "data": {
      "image/png": "[encoded data removed]",
      "text/plain": [
       "<matplotlib.figure.Figure at 0xd94ff5a128>"
      ]
     },
     "metadata": {},
     "output_type": "display_data"
    }
   ],
   "source": [
    "word_count = df.groupby('word')['filepath'].count()\n",
    "word_count.plot(kind='bar')\n",
    "plt.show()"
   ]
  },
  {
   "cell_type": "markdown",
   "metadata": {},
   "source": [
    "All words occur approximately a similar amount of time. Due to this, the `unkown` label is much more represented in the dataset than the rest and somewhat unbalanced which might result to a misleading accuracy later on (*accuracy paradox*). There are three approaches:\n",
    "- use a logloss as quality measure for the model\n",
    "- throw data away to achieve a balanced dataset\n",
    "- learn for all different words at the same time\n",
    "\n",
    "The last option seems to be the best to me, as we might dodge overfitting with that approach by trying to learn more than we should.\n",
    "=> change in previous section in code segment `[5]: word = w`.\n",
    "\n",
    "Some words occur around 1750 times, whilst others are more in the 2400 range. This is a small imbalance which may be perfectly fine."
   ]
  },
  {
   "cell_type": "markdown",
   "metadata": {},
   "source": [
    "### Number of speakers"
   ]
  },
  {
   "cell_type": "code",
   "execution_count": 8,
   "metadata": {},
   "outputs": [
    {
     "name": "stdout",
     "output_type": "stream",
     "text": [
      "1881\n"
     ]
    }
   ],
   "source": [
    "speakers = df['speaker'].unique()\n",
    "n_speakers = speakers.shape[0]\n",
    "print(n_speakers)"
   ]
  },
  {
   "cell_type": "markdown",
   "metadata": {},
   "source": [
    "80% of the speakers will land in the training set, the remaining 20% is for the test set. This ensures an independency between speakers. The same principle will be used for validation later on."
   ]
  },
  {
   "cell_type": "code",
   "execution_count": 9,
   "metadata": {},
   "outputs": [
    {
     "data": {
      "text/plain": [
       "set\n",
       "testing       10881\n",
       "training      40793\n",
       "validation    13047\n",
       "Name: speaker, dtype: int64"
      ]
     },
     "execution_count": 9,
     "metadata": {},
     "output_type": "execute_result"
    }
   ],
   "source": [
    "# some old code to split in sets. Not necessary with the which set function\n",
    "# pivot = int(0.8 * n_speakers)\n",
    "# df_reindex = df.set_index('speaker')\n",
    "# df_train = df_reindex.loc[:speakers[pivot], :]\n",
    "# df_test = df_reindex.loc[speakers[pivot+1]:, :]\n",
    "\n",
    "df['set'] = df['filepath'].apply(lambda x: which_set(x, 20., 16.))\n",
    "df.to_csv(TRAIN_CSV, index=False)\n",
    "df.groupby('set')['speaker'].count()"
   ]
  },
  {
   "cell_type": "markdown",
   "metadata": {},
   "source": [
    "### Utterances of word by same speaker"
   ]
  },
  {
   "cell_type": "markdown",
   "metadata": {},
   "source": [
    "Exploring how often words were spoken by the participants"
   ]
  },
  {
   "cell_type": "code",
   "execution_count": 10,
   "metadata": {},
   "outputs": [
    {
     "data": {
      "text/html": [
       "<div>\n",
       "<style scoped>\n",
       "    .dataframe tbody tr th:only-of-type {\n",
       "        vertical-align: middle;\n",
       "    }\n",
       "\n",
       "    .dataframe tbody tr th {\n",
       "        vertical-align: top;\n",
       "    }\n",
       "\n",
       "    .dataframe thead th {\n",
       "        text-align: right;\n",
       "    }\n",
       "</style>\n",
       "<table border=\"1\" class=\"dataframe\">\n",
       "  <thead>\n",
       "    <tr style=\"text-align: right;\">\n",
       "      <th>word</th>\n",
       "      <th>bed</th>\n",
       "      <th>bird</th>\n",
       "      <th>cat</th>\n",
       "      <th>dog</th>\n",
       "      <th>down</th>\n",
       "      <th>eight</th>\n",
       "      <th>five</th>\n",
       "      <th>four</th>\n",
       "      <th>go</th>\n",
       "      <th>happy</th>\n",
       "      <th>...</th>\n",
       "      <th>sheila</th>\n",
       "      <th>six</th>\n",
       "      <th>stop</th>\n",
       "      <th>three</th>\n",
       "      <th>tree</th>\n",
       "      <th>two</th>\n",
       "      <th>up</th>\n",
       "      <th>wow</th>\n",
       "      <th>yes</th>\n",
       "      <th>zero</th>\n",
       "    </tr>\n",
       "  </thead>\n",
       "  <tbody>\n",
       "    <tr>\n",
       "      <th>count</th>\n",
       "      <td>1881.000000</td>\n",
       "      <td>1881.000000</td>\n",
       "      <td>1881.000000</td>\n",
       "      <td>1881.000000</td>\n",
       "      <td>1881.000000</td>\n",
       "      <td>1881.000000</td>\n",
       "      <td>1881.000000</td>\n",
       "      <td>1881.000000</td>\n",
       "      <td>1881.000000</td>\n",
       "      <td>1881.000000</td>\n",
       "      <td>...</td>\n",
       "      <td>1881.000000</td>\n",
       "      <td>1881.000000</td>\n",
       "      <td>1881.000000</td>\n",
       "      <td>1881.000000</td>\n",
       "      <td>1881.000000</td>\n",
       "      <td>1881.000000</td>\n",
       "      <td>1881.000000</td>\n",
       "      <td>1881.000000</td>\n",
       "      <td>1881.000000</td>\n",
       "      <td>1881.000000</td>\n",
       "    </tr>\n",
       "    <tr>\n",
       "      <th>mean</th>\n",
       "      <td>0.910686</td>\n",
       "      <td>0.920255</td>\n",
       "      <td>0.921318</td>\n",
       "      <td>0.928230</td>\n",
       "      <td>1.254120</td>\n",
       "      <td>1.250399</td>\n",
       "      <td>1.253057</td>\n",
       "      <td>1.261031</td>\n",
       "      <td>1.261031</td>\n",
       "      <td>0.926103</td>\n",
       "      <td>...</td>\n",
       "      <td>0.921850</td>\n",
       "      <td>1.259436</td>\n",
       "      <td>1.265284</td>\n",
       "      <td>1.252525</td>\n",
       "      <td>0.921318</td>\n",
       "      <td>1.261563</td>\n",
       "      <td>1.262626</td>\n",
       "      <td>0.927698</td>\n",
       "      <td>1.263690</td>\n",
       "      <td>1.263158</td>\n",
       "    </tr>\n",
       "    <tr>\n",
       "      <th>std</th>\n",
       "      <td>0.904773</td>\n",
       "      <td>0.894439</td>\n",
       "      <td>0.918010</td>\n",
       "      <td>0.888853</td>\n",
       "      <td>1.441507</td>\n",
       "      <td>1.462485</td>\n",
       "      <td>1.456012</td>\n",
       "      <td>1.452956</td>\n",
       "      <td>1.480877</td>\n",
       "      <td>0.926193</td>\n",
       "      <td>...</td>\n",
       "      <td>0.924119</td>\n",
       "      <td>1.479540</td>\n",
       "      <td>1.463859</td>\n",
       "      <td>1.447494</td>\n",
       "      <td>0.940336</td>\n",
       "      <td>1.481681</td>\n",
       "      <td>1.477898</td>\n",
       "      <td>0.929472</td>\n",
       "      <td>1.484532</td>\n",
       "      <td>1.476543</td>\n",
       "    </tr>\n",
       "    <tr>\n",
       "      <th>min</th>\n",
       "      <td>0.000000</td>\n",
       "      <td>0.000000</td>\n",
       "      <td>0.000000</td>\n",
       "      <td>0.000000</td>\n",
       "      <td>0.000000</td>\n",
       "      <td>0.000000</td>\n",
       "      <td>0.000000</td>\n",
       "      <td>0.000000</td>\n",
       "      <td>0.000000</td>\n",
       "      <td>0.000000</td>\n",
       "      <td>...</td>\n",
       "      <td>0.000000</td>\n",
       "      <td>0.000000</td>\n",
       "      <td>0.000000</td>\n",
       "      <td>0.000000</td>\n",
       "      <td>0.000000</td>\n",
       "      <td>0.000000</td>\n",
       "      <td>0.000000</td>\n",
       "      <td>0.000000</td>\n",
       "      <td>0.000000</td>\n",
       "      <td>0.000000</td>\n",
       "    </tr>\n",
       "    <tr>\n",
       "      <th>25%</th>\n",
       "      <td>0.000000</td>\n",
       "      <td>0.000000</td>\n",
       "      <td>0.000000</td>\n",
       "      <td>0.000000</td>\n",
       "      <td>0.000000</td>\n",
       "      <td>0.000000</td>\n",
       "      <td>0.000000</td>\n",
       "      <td>0.000000</td>\n",
       "      <td>0.000000</td>\n",
       "      <td>0.000000</td>\n",
       "      <td>...</td>\n",
       "      <td>0.000000</td>\n",
       "      <td>0.000000</td>\n",
       "      <td>0.000000</td>\n",
       "      <td>0.000000</td>\n",
       "      <td>0.000000</td>\n",
       "      <td>0.000000</td>\n",
       "      <td>0.000000</td>\n",
       "      <td>0.000000</td>\n",
       "      <td>0.000000</td>\n",
       "      <td>0.000000</td>\n",
       "    </tr>\n",
       "    <tr>\n",
       "      <th>50%</th>\n",
       "      <td>1.000000</td>\n",
       "      <td>1.000000</td>\n",
       "      <td>1.000000</td>\n",
       "      <td>1.000000</td>\n",
       "      <td>1.000000</td>\n",
       "      <td>1.000000</td>\n",
       "      <td>1.000000</td>\n",
       "      <td>1.000000</td>\n",
       "      <td>1.000000</td>\n",
       "      <td>1.000000</td>\n",
       "      <td>...</td>\n",
       "      <td>1.000000</td>\n",
       "      <td>1.000000</td>\n",
       "      <td>1.000000</td>\n",
       "      <td>1.000000</td>\n",
       "      <td>1.000000</td>\n",
       "      <td>1.000000</td>\n",
       "      <td>1.000000</td>\n",
       "      <td>1.000000</td>\n",
       "      <td>1.000000</td>\n",
       "      <td>1.000000</td>\n",
       "    </tr>\n",
       "    <tr>\n",
       "      <th>75%</th>\n",
       "      <td>1.000000</td>\n",
       "      <td>1.000000</td>\n",
       "      <td>1.000000</td>\n",
       "      <td>1.000000</td>\n",
       "      <td>2.000000</td>\n",
       "      <td>2.000000</td>\n",
       "      <td>2.000000</td>\n",
       "      <td>2.000000</td>\n",
       "      <td>2.000000</td>\n",
       "      <td>1.000000</td>\n",
       "      <td>...</td>\n",
       "      <td>1.000000</td>\n",
       "      <td>2.000000</td>\n",
       "      <td>2.000000</td>\n",
       "      <td>2.000000</td>\n",
       "      <td>1.000000</td>\n",
       "      <td>2.000000</td>\n",
       "      <td>2.000000</td>\n",
       "      <td>1.000000</td>\n",
       "      <td>2.000000</td>\n",
       "      <td>2.000000</td>\n",
       "    </tr>\n",
       "    <tr>\n",
       "      <th>max</th>\n",
       "      <td>6.000000</td>\n",
       "      <td>5.000000</td>\n",
       "      <td>5.000000</td>\n",
       "      <td>5.000000</td>\n",
       "      <td>9.000000</td>\n",
       "      <td>9.000000</td>\n",
       "      <td>8.000000</td>\n",
       "      <td>10.000000</td>\n",
       "      <td>10.000000</td>\n",
       "      <td>6.000000</td>\n",
       "      <td>...</td>\n",
       "      <td>6.000000</td>\n",
       "      <td>12.000000</td>\n",
       "      <td>10.000000</td>\n",
       "      <td>10.000000</td>\n",
       "      <td>7.000000</td>\n",
       "      <td>10.000000</td>\n",
       "      <td>10.000000</td>\n",
       "      <td>5.000000</td>\n",
       "      <td>11.000000</td>\n",
       "      <td>10.000000</td>\n",
       "    </tr>\n",
       "  </tbody>\n",
       "</table>\n",
       "<p>8 rows × 30 columns</p>\n",
       "</div>"
      ],
      "text/plain": [
       "word           bed         bird          cat          dog         down  \\\n",
       "count  1881.000000  1881.000000  1881.000000  1881.000000  1881.000000   \n",
       "mean      0.910686     0.920255     0.921318     0.928230     1.254120   \n",
       "std       0.904773     0.894439     0.918010     0.888853     1.441507   \n",
       "min       0.000000     0.000000     0.000000     0.000000     0.000000   \n",
       "25%       0.000000     0.000000     0.000000     0.000000     0.000000   \n",
       "50%       1.000000     1.000000     1.000000     1.000000     1.000000   \n",
       "75%       1.000000     1.000000     1.000000     1.000000     2.000000   \n",
       "max       6.000000     5.000000     5.000000     5.000000     9.000000   \n",
       "\n",
       "word         eight         five         four           go        happy  \\\n",
       "count  1881.000000  1881.000000  1881.000000  1881.000000  1881.000000   \n",
       "mean      1.250399     1.253057     1.261031     1.261031     0.926103   \n",
       "std       1.462485     1.456012     1.452956     1.480877     0.926193   \n",
       "min       0.000000     0.000000     0.000000     0.000000     0.000000   \n",
       "25%       0.000000     0.000000     0.000000     0.000000     0.000000   \n",
       "50%       1.000000     1.000000     1.000000     1.000000     1.000000   \n",
       "75%       2.000000     2.000000     2.000000     2.000000     1.000000   \n",
       "max       9.000000     8.000000    10.000000    10.000000     6.000000   \n",
       "\n",
       "word      ...            sheila          six         stop        three  \\\n",
       "count     ...       1881.000000  1881.000000  1881.000000  1881.000000   \n",
       "mean      ...          0.921850     1.259436     1.265284     1.252525   \n",
       "std       ...          0.924119     1.479540     1.463859     1.447494   \n",
       "min       ...          0.000000     0.000000     0.000000     0.000000   \n",
       "25%       ...          0.000000     0.000000     0.000000     0.000000   \n",
       "50%       ...          1.000000     1.000000     1.000000     1.000000   \n",
       "75%       ...          1.000000     2.000000     2.000000     2.000000   \n",
       "max       ...          6.000000    12.000000    10.000000    10.000000   \n",
       "\n",
       "word          tree          two           up          wow          yes  \\\n",
       "count  1881.000000  1881.000000  1881.000000  1881.000000  1881.000000   \n",
       "mean      0.921318     1.261563     1.262626     0.927698     1.263690   \n",
       "std       0.940336     1.481681     1.477898     0.929472     1.484532   \n",
       "min       0.000000     0.000000     0.000000     0.000000     0.000000   \n",
       "25%       0.000000     0.000000     0.000000     0.000000     0.000000   \n",
       "50%       1.000000     1.000000     1.000000     1.000000     1.000000   \n",
       "75%       1.000000     2.000000     2.000000     1.000000     2.000000   \n",
       "max       7.000000    10.000000    10.000000     5.000000    11.000000   \n",
       "\n",
       "word          zero  \n",
       "count  1881.000000  \n",
       "mean      1.263158  \n",
       "std       1.476543  \n",
       "min       0.000000  \n",
       "25%       0.000000  \n",
       "50%       1.000000  \n",
       "75%       2.000000  \n",
       "max      10.000000  \n",
       "\n",
       "[8 rows x 30 columns]"
      ]
     },
     "execution_count": 10,
     "metadata": {},
     "output_type": "execute_result"
    }
   ],
   "source": [
    "# generates a table counting how much words were spoken by the speakers\n",
    "df_speaker_word_count = df.pivot_table(values='filepath', index='speaker', columns='word', aggfunc='count', fill_value=0)\n",
    "df_speaker_word_count.describe()"
   ]
  },
  {
   "cell_type": "markdown",
   "metadata": {},
   "source": [
    "Some words have been uttered over 10 times. The question is then if it is necessary to keep these different utterations? It might be interesting to listen to these outliers in number of utterances, and if needed throw some data away for balancing out.\n",
    "Other interesting observations:\n",
    "- the median is 1 utterance for every word\n",
    "- the 75% quartile is 1 or 2 for every word\n",
    "- the 25% quartile is 0 for every word"
   ]
  },
  {
   "cell_type": "code",
   "execution_count": 11,
   "metadata": {},
   "outputs": [
    {
     "data": {
      "image/png": "[encoded data removed]",
      "text/plain": [
       "<matplotlib.figure.Figure at 0xd94e23d518>"
      ]
     },
     "metadata": {},
     "output_type": "display_data"
    }
   ],
   "source": [
    "df_speaker_word_count2 = df.groupby(['speaker', 'word'])['filepath'].count()\n",
    "df_speaker_word_count2.hist(bins=12)\n",
    "plt.show()"
   ]
  },
  {
   "cell_type": "markdown",
   "metadata": {},
   "source": [
    "### Retrieving waveforms"
   ]
  },
  {
   "cell_type": "markdown",
   "metadata": {},
   "source": [
    "Reading in the waveform for every file takes quite some time (1GB). First we read in the samplerate for every file (checking if indeed they all are 16KHz), the raw data is written in a different script: (`script.py`)"
   ]
  },
  {
   "cell_type": "code",
   "execution_count": 15,
   "metadata": {},
   "outputs": [
    {
     "ename": "SyntaxError",
     "evalue": "invalid syntax (<ipython-input-15-2f4410e51832>, line 2)",
     "output_type": "error",
     "traceback": [
      "\u001b[1;36m  File \u001b[1;32m\"<ipython-input-15-2f4410e51832>\"\u001b[1;36m, line \u001b[1;32m2\u001b[0m\n\u001b[1;33m    df.to_csv(TRAIN_CSV, index=False)\u001b[0m\n\u001b[1;37m     ^\u001b[0m\n\u001b[1;31mSyntaxError\u001b[0m\u001b[1;31m:\u001b[0m invalid syntax\n"
     ]
    }
   ],
   "source": [
    "df['samplerate'] = df['filepath'].apply(lambda x: wavfile.read(x)[0])"
   ]
  },
  {
   "cell_type": "code",
   "execution_count": 16,
   "metadata": {},
   "outputs": [],
   "source": [
    "df['length'] = df['filepath'].apply(lambda x: wavfile.read(x)[1].shape[0])"
   ]
  },
  {
   "cell_type": "code",
   "execution_count": 19,
   "metadata": {},
   "outputs": [
    {
     "name": "stdout",
     "output_type": "stream",
     "text": [
      "1\n",
      "76\n"
     ]
    }
   ],
   "source": [
    "print(df.groupby('samplerate')['filepath'].count().count())\n",
    "print(df.groupby('length')['filepath'].count().count())"
   ]
  },
  {
   "cell_type": "markdown",
   "metadata": {},
   "source": [
    "All sample rates are 16000KHz, good news. Not all have the 16000 length which would mean they would take 1s. This means we will have to fill NaN values with silence later on."
   ]
  },
  {
   "cell_type": "code",
   "execution_count": 20,
   "metadata": {},
   "outputs": [],
   "source": [
    "df.to_csv(TRAIN_CSV)"
   ]
  },
  {
   "cell_type": "markdown",
   "metadata": {},
   "source": [
    "## Visualization"
   ]
  },
  {
   "cell_type": "code",
   "execution_count": null,
   "metadata": {},
   "outputs": [],
   "source": [
    "rand_w_samples = df.groupby('word', as_index=True).apply(lambda x: random_sample(x, 1)).set_index('word')\n",
    "#rand_w_samples.loc['bed', 'waveform'].plot()\n",
    "rand_w_samples.dtypes"
   ]
  },
  {
   "cell_type": "code",
   "execution_count": null,
   "metadata": {},
   "outputs": [],
   "source": [
    "series = df['waveform'].str.strip('[]')\n",
    "print(series.head())\n",
    "to_list = lambda x: [-int(d) if d.startswith('-') else int(d) for d in x.split(' ') if d!='']\n",
    "df['int_waveform'] = series.apply(to_list)\n",
    "df.head()\n",
    "df.dtypes"
   ]
  },
  {
   "cell_type": "code",
   "execution_count": null,
   "metadata": {},
   "outputs": [],
   "source": [
    "df.head()"
   ]
  },
  {
   "cell_type": "code",
   "execution_count": null,
   "metadata": {},
   "outputs": [],
   "source": [
    "read_wavfile(df['filepath'][0])\n",
    "df2 = pd.DataFrame([read_wavfile(row) for row in df['filepath']])"
   ]
  },
  {
   "cell_type": "raw",
   "metadata": {},
   "source": [
    "df3 = pd.DataFrame([read_wavfile(row) for row in df['filepath'][:4])"
   ]
  },
  {
   "cell_type": "code",
   "execution_count": null,
   "metadata": {},
   "outputs": [],
   "source": [
    "df3.head()"
   ]
  },
  {
   "cell_type": "code",
   "execution_count": null,
   "metadata": {},
   "outputs": [],
   "source": []
  }
 ],
 "metadata": {
  "kernelspec": {
   "display_name": "Python 3",
   "language": "python",
   "name": "python3"
  },
  "language_info": {
   "codemirror_mode": {
    "name": "ipython",
    "version": 3
   },
   "file_extension": ".py",
   "mimetype": "text/x-python",
   "name": "python",
   "nbconvert_exporter": "python",
   "pygments_lexer": "ipython3",
   "version": "3.5.2"
  }
 },
 "nbformat": 4,
 "nbformat_minor": 2
}
